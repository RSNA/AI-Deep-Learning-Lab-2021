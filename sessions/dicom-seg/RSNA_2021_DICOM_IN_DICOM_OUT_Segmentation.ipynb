{
  "nbformat": 4,
  "nbformat_minor": 0,
  "metadata": {
    "colab": {
      "name": "RSNA 2021 DICOM IN DICOM OUT Segmentation.ipynb",
      "private_outputs": true,
      "provenance": [],
      "collapsed_sections": [],
      "include_colab_link": true
    },
    "kernelspec": {
      "display_name": "Python 3",
      "language": "python",
      "name": "python3"
    },
    "accelerator": "GPU"
  },
  "cells": [
    {
      "cell_type": "markdown",
      "metadata": {
        "id": "view-in-github",
        "colab_type": "text"
      },
      "source": [
        "<a href=\"https://colab.research.google.com/github/twloehfelm/AI-Deep-Learning-Lab-2021/blob/main/RSNA_2021_DICOM_IN_DICOM_OUT_Segmentation.ipynb\" target=\"_parent\"><img src=\"https://colab.research.google.com/assets/colab-badge.svg\" alt=\"Open In Colab\"/></a>"
      ]
    },
    {
      "cell_type": "markdown",
      "metadata": {
        "id": "SkHz0FVN6F8u"
      },
      "source": [
        "<table width=\"100%\">\n",
        "    <tr>\n",
        "      <td align=\"center\"><h1>Segmentation</h1></td>\n",
        "    </tr>\n",
        "</table>\n"
      ]
    },
    {
      "cell_type": "markdown",
      "metadata": {
        "id": "2O-42dYnoR3Q"
      },
      "source": [
        "We are going to build a generic CT segmentation tool based on the Mask RCNN network as implemented in Facebook's detectron2 library.\n",
        "\n",
        "\n",
        "---\n",
        "\n",
        "\n",
        "Perhaps you've heard that \"DICOM is not good for CNNs, so first we'll convert it to Nifti, or PNG, or 8-bit RGB files...\" Totally not true! - the problem is not DICOM, the problem is that available software tools were not designed with DICOM in mind. DICOM is actually a great way to store medical images AND segmentation masks (or probability heat maps, or regions of interest...), and with relatively minor modifications, AI libraries like detectron2 can easily learn straight from DICOM and store their predictions in DICOM.\n",
        "\n",
        "In my opinion, sticking with DICOM would significantly lower the barrier to entry for collaboration, sharing models, and integrating with existing software and workflows.\n",
        "\n",
        "\n",
        "---\n",
        "\n",
        "\n",
        "The network in this notebook learns from regular DICOM and DICOM SEG objects, and produces valid DICOM SEG objects as output. It can (theoretically!) segment anything provided you have the training data. Give it DICOM with DICOM SEG segmentations of the liver and spleen, and the network will learn to segment the liver and spleen. Give it segmentations of the kidneys and gallbladder, and it will learn to segment the kidneys and gallbladder, etc.\n",
        "\n",
        "You can produce DICOM SEG segmentations using a number of common tools - I used [ePad](https://epad.stanford.edu/) and [3D Slicer](https://www.slicer.org/) to make these segmentations. Slicer is a great option to view the output segmentations as well.\n",
        "\n",
        "\n",
        "---\n",
        "\n",
        "\n",
        "This notebook is based heavily on the [detectron2](https://github.com/facebookresearch/detectron2) introductory [Colab Notebook](https://colab.research.google.com/drive/16jcaJoc6bCFAQ96jDe2HwtXj7BMD_-m5) and on examples from the [highdicom python library](https://highdicom.readthedocs.io/en/latest/). Some of the CTs and liver segmentations come from the [CHAOS Grand Challenge](https://chaos.grand-challenge.org/).\n",
        "\n",
        "UC Davis radiology residents Shan Hansra and Kate Ford contributed some of the manual organ segmentations in the training data."
      ]
    },
    {
      "cell_type": "markdown",
      "metadata": {
        "id": "vM54r6jlKTII"
      },
      "source": [
        "# Install required packages"
      ]
    },
    {
      "cell_type": "code",
      "metadata": {
        "id": "285hMr3L3Smh"
      },
      "source": [
        "%reload_ext autoreload\n",
        "%autoreload\n",
        "!pip install pyyaml==5.1 > /dev/null\n",
        "\n",
        "import torch\n",
        "TORCH_VERSION = \".\".join(torch.__version__.split(\".\")[:2])\n",
        "CUDA_VERSION = torch.__version__.split(\"+\")[-1]\n",
        "print(\"torch: \", TORCH_VERSION, \"; cuda: \", CUDA_VERSION)\n",
        "# Install detectron2 that matches the above pytorch version\n",
        "# See https://detectron2.readthedocs.io/tutorials/install.html for instructions\n",
        "!pip install detectron2 -f https://dl.fbaipublicfiles.com/detectron2/wheels/$CUDA_VERSION/torch$TORCH_VERSION/index.html > /dev/null\n",
        "# If there is not yet a detectron2 release that matches the given torch + CUDA version, you need to install a different pytorch.\n",
        "\n",
        "exit(0)  # After installation, you may need to \"restart runtime\" in Colab. This line can also restart runtime"
      ],
      "execution_count": null,
      "outputs": []
    },
    {
      "cell_type": "code",
      "metadata": {
        "id": "nXLLE6PlohlO"
      },
      "source": [
        "# Install a few python libraries to facilitate working with DICOM (pydicom) and DICOM SEG (highdicom)\n",
        "!pip3 install -q pydicom\n",
        "!pip3 install -q highdicom"
      ],
      "execution_count": null,
      "outputs": []
    },
    {
      "cell_type": "code",
      "metadata": {
        "id": "ZyAvNCJMmvFF"
      },
      "source": [
        "## You may need to restart your runtime prior to this, to let your installation take effect\n",
        "import torch\n",
        "# Some basic setup:\n",
        "# Setup detectron2 logger\n",
        "import detectron2\n",
        "from detectron2.utils.logger import setup_logger\n",
        "setup_logger()\n",
        "\n",
        "# import some common detectron2 utilities\n",
        "from detectron2 import model_zoo\n",
        "from detectron2.engine import DefaultPredictor, DefaultTrainer\n",
        "from detectron2.config import get_cfg\n",
        "from detectron2.utils.visualizer import Visualizer, ColorMode, GenericMask\n",
        "\n",
        "from detectron2.structures import BoxMode\n",
        "from detectron2.data import DatasetCatalog, MetadataCatalog, build_detection_train_loader, build_detection_test_loader\n",
        "from detectron2.data import transforms as T\n",
        "from detectron2.data import detection_utils as utils\n",
        "\n",
        "# import some common libraries\n",
        "import numpy as np\n",
        "import cv2\n",
        "import random\n",
        "\n",
        "# Imports for liver seg\n",
        "import os\n",
        "from pathlib import Path\n",
        "import shutil\n",
        "import pydicom\n",
        "from pydicom import dcmread\n",
        "import pycocotools\n",
        "import matplotlib.pyplot as plt\n",
        "from matplotlib import gridspec\n",
        "import copy\n",
        "from highdicom.seg.utils import iter_segments\n",
        "from pydicom.sr.codedict import codes\n",
        "from pydicom.uid import generate_uid\n",
        "from highdicom.content import AlgorithmIdentificationSequence\n",
        "from highdicom.seg.content import SegmentDescription\n",
        "from highdicom.content import PixelMeasuresSequence\n",
        "from highdicom.seg.enum import (\n",
        "  SegmentAlgorithmTypeValues,\n",
        "  SegmentationTypeValues\n",
        ")\n",
        "from highdicom.seg.sop import Segmentation\n",
        "\n",
        "from matplotlib.pyplot import imshow\n",
        "%matplotlib inline"
      ],
      "execution_count": null,
      "outputs": []
    },
    {
      "cell_type": "code",
      "metadata": {
        "id": "4Qg7zSVOulkb"
      },
      "source": [
        "# Download liver seg training data to root directory\n",
        "!mkdir /content/pts\n",
        "!wget -q https://www.dropbox.com/s/wm3gzvmk1e97n6y/dicomseg_train.zip -O /content/pts/download.zip\n",
        "!unzip /content/pts/download.zip -d /content/pts > /dev/null"
      ],
      "execution_count": null,
      "outputs": []
    },
    {
      "cell_type": "code",
      "metadata": {
        "id": "qi2amjKT9Trx"
      },
      "source": [
        "# Clean up data folders\n",
        "!rm -rf /content/pts/__MACOSX\n",
        "!rm -rf /content/pts/download.zip\n",
        "!rm -rf ./sample_data\n",
        "ROOT_PATH = Path('/content')\n",
        "[f.unlink() for f in sorted(ROOT_PATH.glob(\"**/.DS_Store\"))]\n",
        "pts_dir = ROOT_PATH/'pts'"
      ],
      "execution_count": null,
      "outputs": []
    },
    {
      "cell_type": "markdown",
      "metadata": {
        "id": "b2bjrfb2LDeo"
      },
      "source": [
        "# Prepare the dataset"
      ]
    },
    {
      "cell_type": "markdown",
      "metadata": {
        "id": "SNc1-JzMJmq2"
      },
      "source": [
        "We'll randomly split the available data into training (90%) and test (10%). To keep things clear, we'll move them to distinct folders called `train` and `test` but this is not necessary - you could just as well keep track of which patients are in which group.\n",
        "\n",
        "We'll store pointers to the patient directories in two lists called `test_pts` and `train_pts` for use later. And finally, we'll delete the existing manual segmentations from the `test_pts`. This is completely unnecessary, but we'll do it just to convince you that the manual segmentations for the test set are not available to the network during training. Deleting them also makes it clearer at the end when we save the automatically generated segmentations for the `test_pts`."
      ]
    },
    {
      "cell_type": "code",
      "metadata": {
        "id": "JFR6B1Kh99Bb"
      },
      "source": [
        "# Randomly split patients 90/10 into training/testing\n",
        "temp_pts = [x for x in Path(pts_dir/'dicomseg_train').iterdir() if x.is_dir()]\n",
        "random.seed(716)\n",
        "random.shuffle(temp_pts)\n",
        "idx = int(len(temp_pts)*0.9)\n",
        "train_pts = temp_pts[:idx]\n",
        "test_pts = temp_pts[idx:]\n",
        "\n",
        "for test_pt in test_pts:\n",
        "  dest = Path(pts_dir/'test').joinpath(test_pt.relative_to(pts_dir/'dicomseg_train'))\n",
        "  shutil.move(test_pt, dest)\n",
        "  \n",
        "\n",
        "for train_pt in train_pts:\n",
        "  dest = Path(pts_dir/'training').joinpath(train_pt.relative_to(pts_dir/'dicomseg_train'))\n",
        "  shutil.move(train_pt, dest)\n",
        "\n",
        "shutil.rmtree(pts_dir/'dicomseg_train')\n",
        "\n",
        "test_pts = [x for x in Path(pts_dir/'test').iterdir() if x.is_dir()]\n",
        "train_pts = [x for x in Path(pts_dir/'training').iterdir() if x.is_dir()]\n",
        "\n",
        "# DELETE SEGMENTATION FILES FROM TEST PATIENTS to be sure they are not used/available during training!\n",
        "# This step is not necessary, it is just to clearly distinguish the output segmentations from the manual segmentations\n",
        "[shutil.rmtree(dir) for pt in test_pts for study in pt.iterdir() for dir in study.iterdir() if dir.name == 'segs']\n"
      ],
      "execution_count": null,
      "outputs": []
    },
    {
      "cell_type": "code",
      "metadata": {
        "id": "JEj93CxaEJMM"
      },
      "source": [
        "# Clean up some variables from the colab runtime\n",
        "del idx\n",
        "del temp_pts\n",
        "del test_pt\n",
        "del train_pt\n",
        "del dest"
      ],
      "execution_count": null,
      "outputs": []
    },
    {
      "cell_type": "markdown",
      "metadata": {
        "id": "cisEBpQMJDgn"
      },
      "source": [
        "Let's see what organs are segmented in our training data. We will scan all of the DICOM SEG files (DICOM header field Modality == 'SEG') and save a list of unique target organs (DICOM header field SegmentLabel) in a list called `categories`."
      ]
    },
    {
      "cell_type": "code",
      "metadata": {
        "id": "o3YIvHfEAvzi"
      },
      "source": [
        "seg_dirs = [dir for pt in train_pts for study in pt.iterdir() for dir in study.iterdir() if dir.name == 'segs']\n",
        "seg_files = [seg_file for seg_dir in seg_dirs for seg_file in seg_dir.iterdir() if dcmread(seg_file, stop_before_pixels=True).Modality == 'SEG']\n",
        "seg_datasets = tuple([dcmread(seg, force=True) for seg in seg_files])\n",
        "categories = sorted(list(set([description.SegmentLabel.lower() for seg_ds in seg_datasets for frames, frame_descriptions, description in iter_segments(seg_ds)])))\n",
        "print(categories)\n"
      ],
      "execution_count": null,
      "outputs": []
    },
    {
      "cell_type": "code",
      "metadata": {
        "id": "gsGUHkBOEwXX"
      },
      "source": [
        "# Clean up variables from the colab runtime\n",
        "del seg_dirs\n",
        "del seg_files\n"
      ],
      "execution_count": null,
      "outputs": []
    },
    {
      "cell_type": "markdown",
      "metadata": {
        "id": "P13IexZ8LhHs"
      },
      "source": [
        "This is one of the modifications we're making to the plain detectron2 source code. Here we define a custom mapper function that loads an image file from a dataset dictionary (which we'll define later on), applies some modest training-time image augmentations (random changes in brightness and contrast), and loads the segmentation masks. These become the input to the network.\n",
        "\n",
        "For the image, we read the pixel_array from the DICOM file and convert it to Hounsfield units using the RescaleSlope and RescaleIntercept, also from the DICOM header. \n",
        "\n",
        "Remember `y = mx + b`? \n",
        "\n",
        "`m` = RescaleSlope\n",
        "\n",
        "`x` = raw pixel value from pixel_array\n",
        "\n",
        "`b` = RescaleIntercept\n",
        "\n",
        "\n",
        "---\n",
        "\n",
        "\n",
        "`y` = HU."
      ]
    },
    {
      "cell_type": "code",
      "metadata": {
        "id": "yfsEnRXLkU2N"
      },
      "source": [
        "def mapper(dataset_dict):\n",
        "  \"\"\"\n",
        "  Args:\n",
        "      dataset_dict (dict): Metadata of one image, in detectron2 Dataset format.\n",
        "\n",
        "  Returns:\n",
        "      dict: a format that builtin models in detectron2 accept\n",
        "  \"\"\"\n",
        "  # Implement a mapper, similar to the default DatasetMapper, but with your own customizations\n",
        "  dataset_dict = copy.deepcopy(dataset_dict)  # it will be modified by code below\n",
        "  ds = pydicom.dcmread(dataset_dict[\"file_name\"])\n",
        "  image = ds.pixel_array\n",
        "  # Convert pixel values to Hounsfield units\n",
        "  image = image*ds.RescaleSlope + ds.RescaleIntercept\n",
        "  image, transforms = T.apply_transform_gens([T.RandomBrightness(0.8, 1.2), T.RandomContrast(0.8, 1.2)], image)\n",
        "  dataset_dict[\"image\"] = torch.as_tensor(image.astype(\"float32\"))\n",
        "\n",
        "  annos = [\n",
        "      utils.transform_instance_annotations(obj, transforms, image.shape[:2])\n",
        "      for obj in dataset_dict.pop(\"annotations\")\n",
        "      if obj.get(\"iscrowd\", 0) == 0\n",
        "  ]\n",
        "  instances = utils.annotations_to_instances(annos, image.shape[:2], mask_format='bitmask')\n",
        "  dataset_dict[\"instances\"] = utils.filter_empty_instances(instances)\n",
        "  return dataset_dict\n",
        "\n",
        "class DICOMSEGTrainer(DefaultTrainer):\n",
        "    @classmethod\n",
        "    def build_test_loader(cls, cfg, dataset_name):\n",
        "        return build_detection_test_loader(cfg, dataset_name, mapper=mapper)\n",
        "\n",
        "    @classmethod\n",
        "    def build_train_loader(cls, cfg):\n",
        "        return build_detection_train_loader(cfg, mapper=mapper)\n"
      ],
      "execution_count": null,
      "outputs": []
    },
    {
      "cell_type": "code",
      "metadata": {
        "id": "c3TFNA-47FYP"
      },
      "source": [
        "def bbox(img):\n",
        "    \"\"\"Generates a bounding box from a segmentation mask\n",
        "    Bounding box is given as coordinates of upper left and lower right corner\n",
        "    args:\n",
        "      img = boolean array of a segmentation mask\n",
        "    returns:\n",
        "      coordinates of upper left and lower right corner \n",
        "    \"\"\"\n",
        "    try:\n",
        "      x,y = np.where(img)\n",
        "    except ValueError:\n",
        "      return None\n",
        "    if x.size != 0:\n",
        "      bbox = y.min(), x.min(), y.max(), x.max()\n",
        "    else:\n",
        "      bbox = None\n",
        "    return bbox\n",
        "\n",
        "# from fastai2 medical imaging\n",
        "def windowed(px, w, l):\n",
        "    \"\"\"Windows a pixel_array of Houndfield units. N.B. This is only used when we are displaying the image for visual effects.\n",
        "    DO NOT window the HU pixel_array when training, since windowing truncates the dynamic range of the image and causes information loss.\n",
        "    args:\n",
        "      px = pixel array in Houndfield units\n",
        "      w = window width (HU range)\n",
        "      l = window level (center point)\n",
        "    returns:\n",
        "      pixel_array convered to the given window/level\n",
        "    \"\"\"\n",
        "    if type(w) == pydicom.multival.MultiValue:\n",
        "      w = w[0]\n",
        "    if type(l) == pydicom.multival.MultiValue:\n",
        "      l = l[0]\n",
        "    px_min = l - w//2\n",
        "    px_max = l + w//2\n",
        "    px[px<px_min] = px_min\n",
        "    px[px>px_max] = px_max\n",
        "    return (px-px_min) / (px_max-px_min)\n",
        "\n",
        "def get_windowed_image(ds):\n",
        "  \"\"\"Helper function that takes a pydicom dataset and returns an image pixel array using the default Window settings specified in the DICOM header\"\"\"\n",
        "  im = ds.pixel_array\n",
        "  im = im*ds.RescaleSlope + ds.RescaleIntercept\n",
        "  im = windowed(im, ds.WindowWidth, ds.WindowCenter)\n",
        "  return im\n",
        "\n",
        "def framesByRefSOPInstanceUID(refSOPInstanceUID, refSeriesInstanceUID, source_rows, source_columns, seg_datasets):\n",
        "  \"\"\"Helper function that takes a CT image and looks through the DICOM SEG datasets to find segmentations that apply to that CT image\"\"\"\n",
        "  data = []\n",
        "  for seg_ds in seg_datasets:\n",
        "    if seg_ds.ReferencedSeriesSequence[0].SeriesInstanceUID == refSeriesInstanceUID:\n",
        "      for frames, frame_descriptions, description in iter_segments(seg_ds):\n",
        "        category = description.SegmentLabel.lower()\n",
        "        found = False\n",
        "        for count, frame_description in enumerate(frame_descriptions):\n",
        "          if frame_description.DerivationImageSequence[0].SourceImageSequence[0].ReferencedSOPInstanceUID == refSOPInstanceUID:\n",
        "            data.append([category, frames[count].astype(np.bool)])\n",
        "            found = True\n",
        "        if not found:\n",
        "          data.append([category, np.full((source_rows, source_columns), False)])\n",
        "  return data\n",
        "\n",
        "def show_img_array(images, columns=10, title=None):\n",
        "  ncol = columns\n",
        "  nrow = len(images) / ncol\n",
        "  plt.figure(figsize=[ncol*3,1+(nrow*3)], dpi=300)\n",
        "\n",
        "  gs = gridspec.GridSpec(nrow, ncol, width_ratios=np.ones(ncol),\n",
        "         wspace=0.0, hspace=0.0, top=0.95, bottom=0.05, left=0.17, right=0.845) \n",
        "\n",
        "  plt.suptitle(title)\n",
        "  \n",
        "  for i, image in enumerate(images):\n",
        "    ax = plt.subplot(len(images) / ncol + 1, ncol, i + 1)\n",
        "    ax.imshow(image, cmap=\"gray\")\n",
        "    ax.set_xticklabels([])\n",
        "    ax.set_yticklabels([])\n",
        "  \n",
        "  plt.axis('off')\n",
        "  \n",
        "  plt.show()\n"
      ],
      "execution_count": null,
      "outputs": []
    },
    {
      "cell_type": "markdown",
      "metadata": {
        "id": "MafbWWl8PYR3"
      },
      "source": [
        "This next cell is where the detectron2 DICOM magic happens. The [Dataset is the core data structure for detectron2](https://detectron2.readthedocs.io/en/latest/tutorials/datasets.html). It organizes the images, segmentations, and other metadata and holds them in a format that the model understands.\n",
        "\n",
        "Here, we are defining a custom dataset that includes a pointer to the source DICOM file (as `record[\"file_name\"]`), a reference to the DICOM unique identifier for the image, the SOPInstanceUID (as `record[\"image_id\"]`), as well as bounding boxes and masks for any DICOM SEG segmentations that apply to this image utilizing the helper functions we defined above."
      ]
    },
    {
      "cell_type": "code",
      "metadata": {
        "id": "sQzJui9fPWVT"
      },
      "source": [
        "# Used in the DatasetCatalog.register call\n",
        "def get_dicomseg_dicts(train_or_val):\n",
        "  \"\"\"Builds a dataset_dict for detectron2\n",
        "    args:\n",
        "      train_or_val = string 'train' or 'val' indicating whether to return\n",
        "        the training or validation dataset_dict\n",
        "    returns:\n",
        "      dataset_dict with each element of the training or validation dataset\n",
        "    \"\"\"\n",
        "  if train_or_val == \"train\":\n",
        "    pts = train_pts\n",
        "  elif train_or_val == \"val\":\n",
        "    pts = test_pts\n",
        "\n",
        "  dataset_dicts = []\n",
        "  for pt in pts:\n",
        "    dcms = [x for x in pt.glob('**/*.dcm') if dcmread(x, stop_before_pixels=True).Modality != \"SEG\"]\n",
        "    for dcm in dcms:\n",
        "      record = {}\n",
        "      filename = str(dcm)\n",
        "      ds = dcmread(filename, stop_before_pixels=True)\n",
        "      record[\"file_name\"] = filename\n",
        "      record[\"image_id\"] = ds.SOPInstanceUID\n",
        "      record[\"height\"] = ds.Rows\n",
        "      record[\"width\"] = ds.Columns\n",
        "\n",
        "      categories_and_masks = framesByRefSOPInstanceUID(ds.SOPInstanceUID, ds.SeriesInstanceUID, ds.Rows, ds.Columns, seg_datasets)\n",
        "      objs = []\n",
        "      for category, mask in categories_and_masks:\n",
        "        if bbox(mask) is not None:\n",
        "          obj = {\n",
        "              \"bbox\": bbox(mask),\n",
        "              \"bbox_mode\": BoxMode.XYXY_ABS,\n",
        "              \"segmentation\": pycocotools.mask.encode(np.asarray(mask, order=\"F\")),\n",
        "              \"category_id\": categories.index(category),\n",
        "              \"is_crowd\": 0\n",
        "          }\n",
        "          objs.append(obj)\n",
        "      record[\"annotations\"] = objs\n",
        "      dataset_dicts.append(record)\n",
        "  return dataset_dicts\n",
        "\n"
      ],
      "execution_count": null,
      "outputs": []
    },
    {
      "cell_type": "code",
      "metadata": {
        "id": "RgYw3tuOAs2Q"
      },
      "source": [
        "# Clear existing DatasetCatalog and then register the training and validation datasets\n",
        "DatasetCatalog.clear()  \n",
        "for d in [\"train\", \"test\"]:\n",
        "    DatasetCatalog.register(\"dicomseg_\" + d, lambda d=d: get_dicomseg_dicts(d))\n",
        "    MetadataCatalog.get(\"dicomseg_\" + d).set(thing_classes=categories)\n",
        "dicomseg_metadata = MetadataCatalog.get(\"dicomseg_train\")"
      ],
      "execution_count": null,
      "outputs": []
    },
    {
      "cell_type": "code",
      "metadata": {
        "id": "A6XboSWHFCX6"
      },
      "source": [
        "del d"
      ],
      "execution_count": null,
      "outputs": []
    },
    {
      "cell_type": "markdown",
      "metadata": {
        "id": "CB8jg-a4JC21"
      },
      "source": [
        "# Explore\n",
        "Let's stop and take a look at the organization of our data files, and dig in to DICOM SEG a little bit.\n",
        "\n",
        "If you click on the folder icon along the left side of the colab notebook screen you should see the directory tree of the virtual machine the colab notebook is hosted on. We've been downloading files to this VM in the cells above this one, and now your directory tree should look something like this:\n",
        "\n",
        "Fron the device root directory, the base dir for colab is /content\n",
        "1.   Within /content we have a ./pts dir, and within ./pts we have ./test and ./train\n",
        "2.   Each test patient (O7mzu..., OLez..., Tgwz..., xTtz...) has a `study` dir (1Uhv..) and each study has a `DICOM` directory\n",
        "3.   Each training pt (0YJc...) has a `study` dir (f0Zx...) and each study has a `DICOM` directory and a `segs` directory\n",
        "4.   Each `segs` directory has a `.dcm` file containing the segmentation mask in DICOM SEG format for the indicated organ [liver, rightkidney, leftadrenal, pancreas, rightadrenal, leftkidney, and spleen]\n"
      ]
    },
    {
      "cell_type": "markdown",
      "metadata": {
        "id": "F17q8-jX2knx"
      },
      "source": [
        "![Capture.PNG](data:image/png;base64,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)"
      ]
    },
    {
      "cell_type": "code",
      "metadata": {
        "id": "dcJLsNKIaio8"
      },
      "source": [
        "pt = train_pts[0]\n",
        "studies = [s for s in pt.iterdir() if s.is_dir()]\n",
        "dicom_dir = studies[0]/'DICOM'\n",
        "segs_dir = studies[0]/'segs'\n",
        "dcms = [dcmread(dcm) for dcm in dicom_dir.iterdir()]\n",
        "dcms.sort(key=lambda x: x.InstanceNumber, reverse=False)"
      ],
      "execution_count": null,
      "outputs": []
    },
    {
      "cell_type": "code",
      "metadata": {
        "id": "9HlCgbp0Fq9x"
      },
      "source": [
        "del pt\n",
        "del studies\n",
        "del dicom_dir"
      ],
      "execution_count": null,
      "outputs": []
    },
    {
      "cell_type": "code",
      "metadata": {
        "id": "afCHG9DsCi3W"
      },
      "source": [
        "images = [get_windowed_image(dcm) for dcm in dcms]\n",
        "show_img_array(images)"
      ],
      "execution_count": null,
      "outputs": []
    },
    {
      "cell_type": "code",
      "metadata": {
        "id": "gRIfeulp0noR"
      },
      "source": [
        "# Clear variables to save memory\n",
        "del images"
      ],
      "execution_count": null,
      "outputs": []
    },
    {
      "cell_type": "code",
      "metadata": {
        "id": "mq5SV5qZGw2n"
      },
      "source": [
        "# Show segmentations\n",
        "segs = [dcmread(dcm, force=True) for dcm in segs_dir.iterdir() if dcm.is_file()]\n",
        "for seg in segs:\n",
        "  for frames, frame_description, description in iter_segments(seg):\n",
        "    show_img_array(frames, title=description.SegmentLabel)"
      ],
      "execution_count": null,
      "outputs": []
    },
    {
      "cell_type": "code",
      "metadata": {
        "id": "1SYumgbdG06L"
      },
      "source": [
        "del description\n",
        "del frame_description\n",
        "del frames\n"
      ],
      "execution_count": null,
      "outputs": []
    },
    {
      "cell_type": "code",
      "metadata": {
        "id": "pOEO8rWKVCyg"
      },
      "source": [
        "# Choose the DICOM SEG file that contains the liver segmentation\n",
        "seg = [seg for seg in segs for frames, frame_description, description in iter_segments(seg) if description.SegmentLabel == 'liver'][0]"
      ],
      "execution_count": null,
      "outputs": []
    },
    {
      "cell_type": "code",
      "metadata": {
        "id": "YILOkYBsMgEY"
      },
      "source": [
        "# Choose the first CT image from the standard DICOM image set\n",
        "# just looking to access DICOM tags that are common among all images from this study/series, so the specific image doesn't matter\n",
        "dcm = dcms[0]"
      ],
      "execution_count": null,
      "outputs": []
    },
    {
      "cell_type": "code",
      "metadata": {
        "id": "Cpk5VpEAMnuY"
      },
      "source": [
        "# Verify that the segmentation series and image series belong to the same DICOM study\n",
        "seg.StudyInstanceUID == dcm.StudyInstanceUID"
      ],
      "execution_count": null,
      "outputs": []
    },
    {
      "cell_type": "code",
      "metadata": {
        "id": "nLl7cL5UQwRU"
      },
      "source": [
        "# Verify that the segmentation file references the CT DICOM series\n",
        "seg.ReferencedSeriesSequence[0].SeriesInstanceUID == dcm.SeriesInstanceUID"
      ],
      "execution_count": null,
      "outputs": []
    },
    {
      "cell_type": "code",
      "metadata": {
        "id": "DEOJ8vSZPLgy"
      },
      "source": [
        "# Verify that the segmentation file references each instance (i.e. image) from the referenced CT series\n",
        "len(seg.ReferencedSeriesSequence[0].ReferencedInstanceSequence) == len(dcms)"
      ],
      "execution_count": null,
      "outputs": []
    },
    {
      "cell_type": "code",
      "metadata": {
        "id": "lzX1w1sDRXLK"
      },
      "source": [
        "# While the segmentation file contains a reference to each image, it does not necessarily contain a pixel mask frame for each DICOM image\n",
        "# The segmentation file will only contain a segmentation mask for a corresponding CT image if there is at least one target pixel present\n",
        "# i.e. Frames that are completely background pixels (usually value = 0) are not discretely saved in the segmentation file\n",
        "# Each frame will have a corresponding pixel_array containing the segmentation mask\n",
        "seg.NumberOfFrames"
      ],
      "execution_count": null,
      "outputs": []
    },
    {
      "cell_type": "code",
      "metadata": {
        "id": "TfZVbGl1T0bO"
      },
      "source": [
        "# The DICOM tag SegmentSequence includes metadata about the segmentation process\n",
        "seg.SegmentSequence[0]"
      ],
      "execution_count": null,
      "outputs": []
    },
    {
      "cell_type": "code",
      "metadata": {
        "id": "JgeSkLw5USQX"
      },
      "source": [
        "# The actual pixel array of the segmentation masks are accessible in the pydicom pixel_array\n",
        "# In this example, the seg file we are looking at is a liver segmentation\n",
        "# The original CT scan contained 91 images of 512 x 512 resolution, and the liver was present on 31 images\n",
        "# The pixel array of the liver segmentation file then will be have a shape of (31, 512, 512), or one 512x512 segmentation mask for each image that contained at least a single segmented liver pixel\n",
        "np.shape(seg.pixel_array)"
      ],
      "execution_count": null,
      "outputs": []
    },
    {
      "cell_type": "code",
      "metadata": {
        "id": "hs7dpgnFWPtg"
      },
      "source": [
        "# Sample liver mask from the middle of the segmentation stack\n",
        "# Choose slice in the middle of the array\n",
        "mid = int(len(seg.pixel_array)/2)\n",
        "plt.imshow(seg.pixel_array[mid], cmap=\"binary_r\", interpolation='none')"
      ],
      "execution_count": null,
      "outputs": []
    },
    {
      "cell_type": "code",
      "metadata": {
        "id": "Hflq1uDUM1W8"
      },
      "source": [
        "# Each DICOM SEG file can contain multiple segments, and each segment can contain multiple frames\n",
        "# the Highdicom library includes a function to iterate over the segments in a DICOM SEG file\n",
        "# For each segment, can retrieve the frames (i.e. the segmentation mask for a specific DICOM image file) and metadata\n",
        "print('segment label [# frames]\\n========================')\n",
        "for frames, frame_descriptions, description in iter_segments(seg):\n",
        "    print('%s [%s]' % (description.SegmentLabel, len(frames)))"
      ],
      "execution_count": null,
      "outputs": []
    },
    {
      "cell_type": "code",
      "metadata": {
        "id": "mcGkeeW4aJGe"
      },
      "source": [
        "# Each frame refers to a specific CT image in the reference study/series. The referenced SOP Instance UID is accessible like so:\n",
        "ref_SOPInstanceUID = frame_descriptions[mid].DerivationImageSequence[0].SourceImageSequence[0].ReferencedSOPInstanceUID\n",
        "ref_SOPInstanceUID"
      ],
      "execution_count": null,
      "outputs": []
    },
    {
      "cell_type": "code",
      "metadata": {
        "id": "xWL78IHcagMi"
      },
      "source": [
        "# We can iterate over the CT dicoms to find the one that corresponds to the segmentation mask\n",
        "# In other words, the segmentation mask we chose above is the mask for the liver on this specific CT image\n",
        "ref_CT = [dcm for dcm in dcms if dcm.SOPInstanceUID == ref_SOPInstanceUID][0]\n",
        "plt.imshow(get_windowed_image(ref_CT), cmap=\"gray\")"
      ],
      "execution_count": null,
      "outputs": []
    },
    {
      "cell_type": "code",
      "metadata": {
        "id": "b7-5eC9EdZ60"
      },
      "source": [
        "import matplotlib.colors as mcolors\n",
        "\n",
        "colors = [(1,0,0,c) for c in np.linspace(0,1,100)]\n",
        "cmapred = mcolors.LinearSegmentedColormap.from_list('mycmap', colors, N=5)\n",
        "\n",
        "# We can better show this by overlaying the segmentation mask as a semitransparent layer on the CT image\n",
        "# We've defined and are using a custom color map where values == 0 are transparent so that only the target organ, not the background, is shaded\n",
        "plt.imshow(get_windowed_image(ref_CT), cmap=\"gray\")\n",
        "plt.imshow(frames[mid], cmap=cmapred, vmin=0.1, alpha=0.4, interpolation='none')"
      ],
      "execution_count": null,
      "outputs": []
    },
    {
      "cell_type": "code",
      "metadata": {
        "id": "70lTRN0dH-jv"
      },
      "source": [
        "del dcm\n",
        "del dcms\n",
        "del frame_descriptions\n",
        "del frames\n",
        "del mid\n",
        "del ref_CT\n",
        "del ref_SOPInstanceUID\n",
        "del seg\n",
        "del segs"
      ],
      "execution_count": null,
      "outputs": []
    },
    {
      "cell_type": "markdown",
      "metadata": {
        "id": "6ljbWTX0Wi8E"
      },
      "source": [
        "# Verify Data Loading\n",
        "To verify the data loading is correct, let's visualize the annotations of randomly selected samples in the training set:\n",
        "\n"
      ]
    },
    {
      "cell_type": "code",
      "metadata": {
        "id": "Tp1Ft4x-Kx23"
      },
      "source": [
        "dataset_dicts = get_dicomseg_dicts(\"train\")"
      ],
      "execution_count": null,
      "outputs": []
    },
    {
      "cell_type": "code",
      "metadata": {
        "id": "UkNbUzUOLYf0"
      },
      "source": [
        "# Choose random images from the training dataset_dict and display image with mask overlay\n",
        "images = []\n",
        "for d in random.sample(dataset_dicts, 10):\n",
        "    ds = dcmread(d[\"file_name\"])\n",
        "    im = get_windowed_image(ds)\n",
        "    im = np.stack((im,) * 3, -1)\n",
        "    im = im*255\n",
        "    v = Visualizer(im[:, :, ::-1],\n",
        "                   metadata=dicomseg_metadata, \n",
        "                   scale=0.8\n",
        "    )\n",
        "    v = v.draw_dataset_dict(d)\n",
        "    #print(d[\"file_name\"])\n",
        "    images.append(v.get_image()[:, :, ::-1])\n",
        "show_img_array(images, columns=5)"
      ],
      "execution_count": null,
      "outputs": []
    },
    {
      "cell_type": "code",
      "metadata": {
        "id": "oiFl2ervJYY4"
      },
      "source": [
        "del images\n",
        "del d\n",
        "del im\n",
        "del ds\n",
        "del description\n",
        "del v"
      ],
      "execution_count": null,
      "outputs": []
    },
    {
      "cell_type": "markdown",
      "metadata": {
        "id": "XW5EakiuV2Ar"
      },
      "source": [
        "# Train\n",
        "\n",
        "Now, let's fine-tune a coco-pretrained R50-FPN Mask R-CNN model on this abdominal organs dataset. It takes ~2 minutes to train 300 iterations on Colab.\n"
      ]
    },
    {
      "cell_type": "markdown",
      "metadata": {
        "id": "nSr0PHZZXi-r"
      },
      "source": [
        "**100** training iterations takes ~5 minutes and is used here for demo purposes. For better results set `cfg.SOLVER.MAX_ITER = 300` or more (good peformance out to at least 600 iterations)\n",
        "\n",
        "*  100 iterations takes ~ 5 minutes\n",
        "*  300 iterations takes ~ 20 minutes\n",
        "*  600 iterations takes ~ 40 minutes"
      ]
    },
    {
      "cell_type": "code",
      "metadata": {
        "id": "7unkuuiqLdqd"
      },
      "source": [
        "cfg = get_cfg()\n",
        "cfg.merge_from_file(model_zoo.get_config_file(\"COCO-InstanceSegmentation/mask_rcnn_R_50_FPN_3x.yaml\"))\n",
        "cfg.DATASETS.TRAIN = (\"dicomseg_train\",)\n",
        "cfg.DATALOADER.FILTER_EMPTY_ANNOTATIONS = False\n",
        "cfg.DATASETS.TEST = ()\n",
        "cfg.DATALOADER.NUM_WORKERS = 2\n",
        "cfg.MODEL.WEIGHTS = model_zoo.get_checkpoint_url(\"COCO-InstanceSegmentation/mask_rcnn_R_50_FPN_3x.yaml\")  # Let training initialize from model zoo\n",
        "\n",
        "\n",
        "# These three SOLVER parameters are probably the best places to start tweaking to modify performance\n",
        "cfg.SOLVER.IMS_PER_BATCH = 16\n",
        "cfg.SOLVER.BASE_LR = 0.1  # Can experiment with different base learning rates\n",
        "\n",
        "\n",
        "######################################################\n",
        "######################################################\n",
        "\n",
        "# Primary determinant of training time\n",
        "# Continues to learn out to at least 600 iterations\n",
        "\n",
        "cfg.SOLVER.MAX_ITER = 100 #~5 minutes; 300 iterations is ~20 minutes but gives noticeably better results \n",
        "\n",
        "######################################################\n",
        "######################################################\n",
        "\n",
        "\n",
        "cfg.MODEL.ROI_HEADS.BATCH_SIZE_PER_IMAGE = 512   # faster, and good enough for this simple dataset (default: 512)\n",
        "cfg.MODEL.ROI_HEADS.NUM_CLASSES = len(categories)  # number of classes determined dynamically\n",
        "cfg.MODEL.SEM_SEG_HEAD.NUM_CLASSES = len(categories)\n",
        "cfg.MODEL.RETINANET.NUM_CLASSES = len(categories)\n",
        "#cfg.MODEL.ANCHOR_GENERATOR.SIZES = [[16, 32, 64, 128, 256]]\n",
        "#cfg.MODEL.PIXEL_MEAN = [485.856]\n",
        "#cfg.MODEL.PIXEL_STD = [513.741]\n",
        "\n",
        "cfg.TEST.DETECTIONS_PER_IMAGE = 20\n",
        "\n",
        "# The following configuration settings are part of what allows detectron2 to work with (single-channel) DICOM data\n",
        "# Most networks are designed to work with 3-channel RGB files (for detectron2, actually BGR)\n",
        "# We change from the default _c.INPUT.FORMAT = 'BGR' to _c.INPUT.FORMAT = 'F' for 32-bit single channel floating point pixels\n",
        "# We also change the default mask format from 'polygons' to 'bitmask'\n",
        "cfg.INPUT.FORMAT = \"F\" #32-bit single channel floating point pixels\n",
        "cfg.INPUT.MASK_FORMAT = \"bitmask\" # Needed to change this from the default \"polygons\"\n",
        "cfg.INPUT.MAX_SIZE_TEST = 512\n",
        "cfg.INPUT.MAX_SIZE_TRAIN = 512\n",
        "cfg.INPUT.MIN_SIZE_TEST = 512\n",
        "cfg.INPUT.MIN_SIZE_TRAIN = (512,)\n",
        "\n",
        "print(cfg.dump())\n",
        "\n",
        "os.makedirs(cfg.OUTPUT_DIR, exist_ok=True)\n",
        "trainer = DICOMSEGTrainer(cfg)\n",
        "trainer.resume_or_load(resume=False)\n",
        "trainer.train()"
      ],
      "execution_count": null,
      "outputs": []
    },
    {
      "cell_type": "code",
      "metadata": {
        "id": "hBXeH8UXFcqU"
      },
      "source": [
        "# Look at training curves in tensorboard:\n",
        "%load_ext tensorboard\n",
        "%tensorboard --logdir output"
      ],
      "execution_count": null,
      "outputs": []
    },
    {
      "cell_type": "code",
      "metadata": {
        "id": "h0JeEVP7MS8A"
      },
      "source": [
        "%reload_ext tensorboard"
      ],
      "execution_count": null,
      "outputs": []
    },
    {
      "cell_type": "markdown",
      "metadata": {
        "id": "0e4vdDIOXyxF"
      },
      "source": [
        "# Inference & evaluation using the trained model\n",
        "Now, let's run inference with the trained model on the validation dataset. First, let's create a predictor using the model we just trained:\n",
        "\n"
      ]
    },
    {
      "cell_type": "code",
      "metadata": {
        "id": "CYHrysR9MgV6"
      },
      "source": [
        "from detectron2.modeling import build_model\n",
        "from detectron2.checkpoint import DetectionCheckpointer\n",
        "\n",
        "class DICOMSEGPredictor:\n",
        "    \"\"\"\n",
        "    Create a simple end-to-end predictor with the given config that runs on\n",
        "    single device for a single input image.\n",
        "    Compared to using the model directly, this class does the following additions:\n",
        "    1. Load checkpoint from `cfg.MODEL.WEIGHTS`.\n",
        "    2. Always take BGR image as the input and apply conversion defined by `cfg.INPUT.FORMAT`.\n",
        "    3. Apply resizing defined by `cfg.INPUT.{MIN,MAX}_SIZE_TEST`.\n",
        "    4. Take one input image and produce a single output, instead of a batch.\n",
        "    If you'd like to do anything more fancy, please refer to its source code\n",
        "    as examples to build and use the model manually.\n",
        "    Attributes:\n",
        "        metadata (Metadata): the metadata of the underlying dataset, obtained from\n",
        "            cfg.DATASETS.TEST.\n",
        "    Examples:\n",
        "    .. code-block:: python\n",
        "        pred = DefaultPredictor(cfg)\n",
        "        inputs = cv2.imread(\"input.jpg\")\n",
        "        outputs = pred(inputs)\n",
        "    \"\"\"\n",
        "\n",
        "    def __init__(self, cfg):\n",
        "        self.cfg = cfg.clone()  # cfg can be modified by model\n",
        "        self.model = build_model(self.cfg)\n",
        "        self.model.eval()\n",
        "        self.metadata = MetadataCatalog.get(cfg.DATASETS.TEST[0])\n",
        "\n",
        "        checkpointer = DetectionCheckpointer(self.model)\n",
        "        checkpointer.load(cfg.MODEL.WEIGHTS)\n",
        "\n",
        "        self.transform_gen = T.ResizeShortestEdge(\n",
        "            [cfg.INPUT.MIN_SIZE_TEST, cfg.INPUT.MIN_SIZE_TEST], cfg.INPUT.MAX_SIZE_TEST\n",
        "        )\n",
        "\n",
        "        self.input_format = cfg.INPUT.FORMAT\n",
        "        \n",
        "    def __call__(self, original_image):\n",
        "        \"\"\"\n",
        "        Args:\n",
        "            original_image (np.ndarray): a single channel image.\n",
        "        Returns:\n",
        "            predictions (dict):\n",
        "                the output of the model for one image only.\n",
        "                See :doc:`/tutorials/models` for details about the format.\n",
        "        \"\"\"\n",
        "        with torch.no_grad():  # https://github.com/sphinx-doc/sphinx/issues/4258\n",
        "            height, width = original_image.shape[:2]\n",
        "            image = original_image\n",
        "            image = torch.as_tensor(image.astype(\"float32\"))\n",
        "\n",
        "            inputs = {\"image\": image, \"height\": height, \"width\": width}\n",
        "            predictions = self.model([inputs])[0]\n",
        "            return predictions"
      ],
      "execution_count": null,
      "outputs": []
    },
    {
      "cell_type": "code",
      "metadata": {
        "id": "Ya5nEuMELeq8"
      },
      "source": [
        "cfg.MODEL.WEIGHTS = os.path.join(cfg.OUTPUT_DIR, \"model_final.pth\")\n",
        "cfg.MODEL.ROI_HEADS.SCORE_THRESH_TEST = 0.50   # set the testing threshold for this model\n",
        "cfg.DATASETS.TEST = (\"dicomseg_val\", )\n",
        "predictor = DICOMSEGPredictor(cfg)"
      ],
      "execution_count": null,
      "outputs": []
    },
    {
      "cell_type": "code",
      "metadata": {
        "id": "w___KXuF5h3H"
      },
      "source": [
        "algorithm_identification = AlgorithmIdentificationSequence(\n",
        "  name='DIDO_dicomseg',\n",
        "  version='v0.1',\n",
        "  family=codes.cid7162.ArtificialIntelligence\n",
        ")"
      ],
      "execution_count": null,
      "outputs": []
    },
    {
      "cell_type": "code",
      "metadata": {
        "id": "IjRk3Az35mEk"
      },
      "source": [
        "GenericAnatomyColors = {\n",
        "  'tissue': {'rgb': [128, 174, 128], 'DicomLab': [43802, 26566, 37721]},\n",
        "  'liver': {'rgb': [221, 130, 101], 'DicomLab': [41660, 41169, 40791]},\n",
        "  'pancreas': {'rgb': [249, 180, 111], 'DicomLab': [51392, 37456, 44400]},\n",
        "  'spleen': {'rgb': [157, 108, 162], 'DicomLab': [34340, 40315, 27406]},\n",
        "  'right kidney': {'rgb': [185, 102, 83], 'DicomLab': [34296, 40958, 39423]},\n",
        "  'left kidney': {'rgb': [185, 102, 83], 'DicomLab': [34296, 40958, 39423]},\n",
        "  'right adrenal': {'rgb': [249, 186, 150], 'DicomLab': [52714, 37590, 39865]},\n",
        "  'left adrenal': {'rgb': [249, 186, 150], 'DicomLab': [52714, 37590, 39865]},\n",
        " }"
      ],
      "execution_count": null,
      "outputs": []
    },
    {
      "cell_type": "code",
      "metadata": {
        "id": "5iyxhA6Byi8M"
      },
      "source": [
        "for pt in test_pts:\n",
        "  studies = [s for s in pt.iterdir() if s.is_dir()]\n",
        "  for s in studies:\n",
        "    dcms = [dcmread(dcm) for dcm in Path(s/'DICOM').iterdir()]\n",
        "    dcms.sort(key=lambda x: x.InstanceNumber, reverse=False)\n",
        "    mask = {}\n",
        "    series_num = dcms[0].SeriesNumber\n",
        "    pixel_spacing = dcms[0].PixelSpacing\n",
        "    slice_thickness = dcms[0].SliceThickness\n",
        "    pixel_measures = PixelMeasuresSequence(pixel_spacing=pixel_spacing, slice_thickness=slice_thickness, spacing_between_slices=None)\n",
        "    for c in categories:\n",
        "      mask[c] = np.zeros(\n",
        "          shape=(\n",
        "              len(dcms),\n",
        "              dcms[0].Rows,\n",
        "              dcms[0].Columns\n",
        "          ),\n",
        "          dtype=bool\n",
        "      )\n",
        "    for num, ds in enumerate(dcms):\n",
        "      im=ds.pixel_array\n",
        "      im=im*ds.RescaleSlope + ds.RescaleIntercept\n",
        "      outputs = predictor(im)\n",
        "      predictions = outputs[\"instances\"].to(\"cpu\")\n",
        "      pred_labels = {x: categories[x] for x in predictions.pred_classes.tolist()}\n",
        "      for pred_label in pred_labels:\n",
        "        organ = pred_labels[pred_label]\n",
        "        preds = predictions[predictions.pred_classes == pred_label]\n",
        "        if preds.has(\"pred_masks\"):\n",
        "          masks = np.asarray(preds.pred_masks)\n",
        "          masks = [GenericMask(x, x.shape[0], x.shape[1]) for x in masks]\n",
        "          masks = [mask.mask for mask in masks]\n",
        "          if masks and not np.all((masks == 0)):\n",
        "            mask[organ][num] = np.maximum.reduce(masks)\n",
        "    \n",
        "    for c in categories:\n",
        "      if c in mask and not np.all((mask[c] == False)):\n",
        "        description_segment_1 = SegmentDescription(\n",
        "            segment_number=1,\n",
        "            segment_label=c,\n",
        "            segmented_property_category=codes.cid7150.AnatomicalStructure,\n",
        "            segmented_property_type=codes.cid7166.Organ,\n",
        "            algorithm_type=SegmentAlgorithmTypeValues.AUTOMATIC,\n",
        "            algorithm_identification=algorithm_identification,\n",
        "            tracking_uid=generate_uid(),\n",
        "            tracking_id='dicomseg segmentation'\n",
        "        )\n",
        "        # Create the Segmentation instance\n",
        "        seg_dataset = Segmentation(\n",
        "          source_images=dcms,\n",
        "          pixel_array=mask[c],\n",
        "          segmentation_type=SegmentationTypeValues.BINARY,\n",
        "          segment_descriptions=[description_segment_1],\n",
        "          series_instance_uid=generate_uid(),\n",
        "          series_number=series_num,\n",
        "          pixel_measures=pixel_measures,\n",
        "          sop_instance_uid=generate_uid(),\n",
        "          instance_number=1,\n",
        "          manufacturer='RSNA 2021 DIDO Segmentation',\n",
        "          manufacturer_model_name='DICOM SEG Segmentation',\n",
        "          software_versions='v0.1',\n",
        "          device_serial_number='90210',\n",
        "        )\n",
        "\n",
        "        new_dir = Path(s/'segs')\n",
        "        new_dir.mkdir(parents=True, exist_ok=True)\n",
        "        fn = c.replace(' ','_')+'_DIDO_seg.dcm'\n",
        "        output_path = new_dir/fn\n",
        "        seg_dataset.SeriesDescription = c\n",
        "        if c in GenericAnatomyColors:\n",
        "          dicomLab = GenericAnatomyColors[c]['DicomLab']\n",
        "        else:\n",
        "          dicomLab = GenericAnatomyColors['tissue']['DicomLab']\n",
        "        seg_dataset.SegmentSequence[0].add_new([0x0062, 0x000d], 'US', dicomLab)\n",
        "        seg_dataset.save_as(output_path)\n"
      ],
      "execution_count": null,
      "outputs": []
    },
    {
      "cell_type": "markdown",
      "metadata": {
        "id": "LgOoOhs0FMce"
      },
      "source": [
        "You should have valid DICOM SEG objects in your Colab VM file system. To make it easier to download them to your local computer so you can view them in 3D Slicer, we'll zip the test directory so there is only one file to download."
      ]
    },
    {
      "cell_type": "code",
      "metadata": {
        "id": "542tGWqh7vwy"
      },
      "source": [
        "!zip -r /content/DIDO_segs.zip /content/pts/test > /dev/null"
      ],
      "execution_count": null,
      "outputs": []
    },
    {
      "cell_type": "markdown",
      "metadata": {
        "id": "_slxUYCoFor0"
      },
      "source": [
        "You can now right-click on the DIDO_segs.zip file in the Colab root dir and download it to your local computer. Unzip it and import it into 3D Slicer to view the segmentations."
      ]
    },
    {
      "cell_type": "markdown",
      "metadata": {
        "id": "qWq1XHfDWiXO"
      },
      "source": [
        "Then, we randomly select several samples to visualize the prediction results."
      ]
    },
    {
      "cell_type": "code",
      "metadata": {
        "id": "U5LhISJqWXgM"
      },
      "source": [
        "images = []\n",
        "dataset_dicts = get_dicomseg_dicts(\"val\")\n",
        "\n",
        "for d in random.sample(dataset_dicts, 20): \n",
        "    ds=pydicom.dcmread(d[\"file_name\"])\n",
        "    im=ds.pixel_array\n",
        "    im=im*ds.RescaleSlope + ds.RescaleIntercept\n",
        "    outputs = predictor(im)\n",
        "    im = windowed(im, ds.WindowWidth, ds.WindowCenter)\n",
        "    im = np.stack((im,) * 3, -1)\n",
        "    im=im*255\n",
        "    v = Visualizer(im[:, :, ::-1],\n",
        "                   metadata=dicomseg_metadata, \n",
        "                   scale=0.8, \n",
        "                   instance_mode=ColorMode.IMAGE\n",
        "    )\n",
        "    v = v.draw_instance_predictions(outputs[\"instances\"].to(\"cpu\"))\n",
        "    images.append(v.get_image()[:, :, ::-1])\n",
        "show_img_array(images, columns=3)"
      ],
      "execution_count": null,
      "outputs": []
    },
    {
      "cell_type": "code",
      "metadata": {
        "id": "ynkOOgXxSmRE"
      },
      "source": [
        ""
      ],
      "execution_count": null,
      "outputs": []
    }
  ]
}