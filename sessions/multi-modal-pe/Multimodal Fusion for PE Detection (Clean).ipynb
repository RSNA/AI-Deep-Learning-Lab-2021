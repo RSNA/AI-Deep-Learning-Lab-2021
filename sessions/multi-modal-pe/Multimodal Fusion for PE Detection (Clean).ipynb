{
 "cells": [
  {
   "cell_type": "markdown",
   "metadata": {},
   "source": [
    "# Multimodal Fusion for Pulmonary Embolism Classification\n",
    "\n",
    "In this demonstration, we will recreate the results from our manuscript *Multimodal fusion with deep neural networks for leveraging CT imaging and electronic health record: a case-study in pulmonary embolism detection*. Specifically, we will build a multimodal fusion model (late fusion) that combine information from both CT scans and Electronic Medical Record (EMR) to automatically diagnose the presence of PE. \n",
    "\n",
    "![Workflow](./figs/workflow.png)\n",
    "\n",
    "### Motivation\n",
    "\n",
    "Pulmonary Embolism (PE) is a serious medical condition that hospitalizes 300,000 people in the United States every year. The gold standard diagnostic modality for PE is Computed Tomography Pulmonary Angiography (CTPA) which is interpreted by radiologists. Studies have shown that prompt diagnosis and treatment can greatly reduce morbidity and mortality. Strategies to automate accurate interpretation and timely reporting of CTPA examinations may successfully triage urgent cases of PE to the immediate attention of physicians, improving time to diagnosis and treatment.\n",
    "\n",
    "Recent advancements in deep learning have led to a resurgence of medical imaging and Electronic Medical Record (EMR) models for a variety of applications, including clinical decision support, automated workflow triage, clinical prediction and more. However, very few models have been developed to integrate both clinical and imaging data, despite that in routine practice clinicians rely on EMR to provide context in medical imaging interpretation.\n",
    "\n",
    "### Fusion Strategies\n",
    "![Fusion Strategies](./figs/fusion_strategies.png)\n",
    "\n",
    "### Data\n",
    "We will use a subset of RadFusion, a large-scale multimodal pulmonary embolism detection dataset consisting of 1837 CT imaging studies (comprising 600,000+ 2D slices) for 1794 patients and their corresponding EHR summary data. The full dataset with CT scans can be access via the following link: \n",
    "- https://stanfordaimi.azurewebsites.net/datasets/3a7548a4-8f65-4ab7-85fa-3d68c9efc1bd\n",
    "\n",
    "### References\n",
    "- Huang, Shih-Cheng, et al. \"PENet—a scalable deep-learning model for automated diagnosis of pulmonary embolism using volumetric CT imaging.\" NPJ digital medicine 3.1 (2020): 1-9.\n",
    "- Huang, Shih-Cheng, et al. \"Multimodal fusion with deep neural networks for leveraging CT imaging and electronic health record: a case-study in pulmonary embolism detection.\" Scientific reports 10.1 (2020): 1-9.\n",
    "- Zhou, Yuyin, et al. \"RadFusion: Benchmarking Performance and Fairness for Multimodal Pulmonary Embolism Detection from CT and EHR.\" arXiv preprint arXiv:2111.11665 (2021)."
   ]
  },
  {
   "cell_type": "markdown",
   "metadata": {},
   "source": [
    "## Research Use Agreement\n",
    "\n",
    "Before we can proceed to download the data, please agree to this **Research Use Agreement** by registering to download from our website:\n",
    "- https://stanfordaimi.azurewebsites.net/datasets/3a7548a4-8f65-4ab7-85fa-3d68c9efc1bd\n",
    "\n",
    "\n",
    "![User Agreement](./figs/UserAgreement.png)\n"
   ]
  },
  {
   "cell_type": "markdown",
   "metadata": {},
   "source": [
    "## System Setup & Downloading the Data"
   ]
  },
  {
   "cell_type": "code",
   "execution_count": null,
   "metadata": {},
   "outputs": [],
   "source": [
    "!pip install numpy pandas scikit-learn matplotlib\n",
    "!gdown --id 1w0ocK3br8oqVwn6zK5qgtRaj9Ql37dtd  # /content/Demographics.csv\n",
    "!gdown --id 1MEhVZ87J2IwFmkgxOi8WjdVKTdwOpDDY  # /content/INP_MED.csv\n",
    "!gdown --id 1PRgFvQjqEUudeJ0FLR3DbtvqmI7t7sCT  # /content/OUT_MED.csv\n",
    "!gdown --id 1EDZOYmWrvv6D3XaZrjVous95c9HdiBEx  # /content/Vitals.csv\n",
    "!gdown --id 1Nlm1ZgibRv6kJBIJkQHkRh8oPqUpELnK  # /content/ICD.csv\n",
    "!gdown --id 17Y9DJsolaRPyMkk_Xm3w-iCgSOxkQOyf  # /content/LABS.csv\n",
    "!gdown --id 1JDb5f18uNo2hXXQqcHlRbcjswph1y98h  # /content/Vision.csv"
   ]
  },
  {
   "cell_type": "markdown",
   "metadata": {},
   "source": [
    "## Data Exploration\n",
    "After downloading the data, you should be able to find the following files in your directory: \n",
    "    \n",
    "- Demographics.csv \n",
    "- INP_MED.csv\n",
    "- OUT_MED.csv\n",
    "- Vitals.csv\n",
    "- ICD.csv\n",
    "- LABS.csv\n",
    "- Vision.csv\n",
    "\n",
    "Let's explore the contents in each file."
   ]
  },
  {
   "cell_type": "code",
   "execution_count": null,
   "metadata": {},
   "outputs": [],
   "source": [
    "# import libraries\n",
    "import pandas as pd\n",
    "import numpy as np"
   ]
  },
  {
   "cell_type": "markdown",
   "metadata": {},
   "source": [
    "### Patient Demographics\n",
    "\n",
    "The demographic features consist of one-hot encoded gender, race and smoking habits and the age as a numeric variable."
   ]
  },
  {
   "cell_type": "code",
   "execution_count": null,
   "metadata": {},
   "outputs": [],
   "source": [
    "demo_df = pd.read_csv('/content/Demographics.csv')\n",
    "print(demo_df.shape)\n",
    "demo_df.head(5)"
   ]
  },
  {
   "cell_type": "markdown",
   "metadata": {},
   "source": [
    "### Inpatient & Outpatient Medications\n",
    "\n",
    "641 unique classes of drugs were identified for outpatient medication. Each medication was represented as both the frequency within the 12-month window and a binary label of whether the drug was prescribed to the patient."
   ]
  },
  {
   "cell_type": "code",
   "execution_count": null,
   "metadata": {},
   "outputs": [],
   "source": [
    "out_med_df = pd.read_csv('/content/OUT_MED.csv')\n",
    "print(out_med_df.shape)\n",
    "out_med_df.head(5)"
   ]
  },
  {
   "cell_type": "code",
   "execution_count": null,
   "metadata": {},
   "outputs": [],
   "source": [
    "in_med_df = pd.read_csv('/content/INP_MED.csv')\n",
    "print(in_med_df.shape)\n",
    "in_med_df.head(5)"
   ]
  },
  {
   "cell_type": "markdown",
   "metadata": {},
   "source": [
    "### ICD Codes\n",
    "\n",
    "We excluded all ICD codes with less than 1% occurrences in the training dataset and collapsed into top diagnosis categories, which resulted in a total of 141 diagnosis groups. We used a binary presence/absence as well as a frequency to represent diagnosis code as features. All ICD codes recorded with the same encounter number as the patient’s CT exam, or within a 24 hour window prior to their CT examination, were dropped to avoid data leakage."
   ]
  },
  {
   "cell_type": "code",
   "execution_count": null,
   "metadata": {},
   "outputs": [],
   "source": [
    "icd_df = pd.read_csv('/content/ICD.csv')\n",
    "print(icd_df.shape)\n",
    "icd_df.head(5)"
   ]
  },
  {
   "cell_type": "markdown",
   "metadata": {},
   "source": [
    "### Lab Tests\n",
    "\n",
    "We identified 22 lab tests and represented each test as binary presence/absence as well as the latest value of the test."
   ]
  },
  {
   "cell_type": "code",
   "execution_count": null,
   "metadata": {},
   "outputs": [],
   "source": [
    "lab_df = pd.read_csv('/content/LABS.csv')\n",
    "print(lab_df.shape)\n",
    "lab_df.head(5)"
   ]
  },
  {
   "cell_type": "markdown",
   "metadata": {},
   "source": [
    "### Vitals\n",
    "\n",
    "For vitals, we included systolic and diastolic blood pressure, height, weight, body mass index (BMI), temperature, respiration rate, pulse oximetry (spO2) and heart rate. The vitals were represented with respect to their sensitivity to change, which was computed by taking the derivative of the vital values along the temporal axis."
   ]
  },
  {
   "cell_type": "code",
   "execution_count": null,
   "metadata": {},
   "outputs": [],
   "source": [
    "vitals_df = pd.read_csv('/content/Vitals.csv')\n",
    "vitals_df.head(5)"
   ]
  },
  {
   "cell_type": "markdown",
   "metadata": {},
   "source": [
    "### PE CTs\n",
    "\n",
    "The RadFusion dataset includes CTPA scans for each study. Due to time and computational constraint, we have ran inference on these CT scans using PENet, and stored the prediction probabilities in **Vision.csv**. Additional, this csv file incldues the labels (PE positive / PE negative), the type of PE (central, segmental and sub-segmental) and the train/val/test split used to develope PENet. For more information about PENet, please refer to: \n",
    "- Manuscript: [https://www.nature.com/articles/s41746-020-0266-y](https://www.nature.com/articles/s41746-020-0266-y)\n",
    "- GitHub: [https://github.com/marshuang80/penet](https://github.com/marshuang80/penet)"
   ]
  },
  {
   "cell_type": "code",
   "execution_count": null,
   "metadata": {},
   "outputs": [],
   "source": [
    "# TODO, remove pe_type if label = 0\n",
    "vision_df = pd.read_csv('/content/Vision.csv')\n",
    "vision_df.head(5)"
   ]
  },
  {
   "cell_type": "markdown",
   "metadata": {},
   "source": [
    "## Process Data\n",
    "\n",
    "We are going to pre-process the EMR data by: \n",
    "- Remove any features with zero variance \n",
    "- Normalize all features to be within the same range\n",
    "\n",
    "Next, we are going to combine all the EMR features into one dataframe"
   ]
  },
  {
   "cell_type": "code",
   "execution_count": null,
   "metadata": {},
   "outputs": [],
   "source": [
    "processed_emr_dfs = []\n",
    "for df in [demo_df, out_med_df, in_med_df, icd_df, lab_df, vitals_df]:\n",
    "    # remove zero variance featurs\n",
    "    df = df.loc[:,df.apply(pd.Series.nunique) != 1]\n",
    "    \n",
    "    # set index \n",
    "    df = df.set_index('idx')\n",
    "\n",
    "    # normalize features\n",
    "    df = df.apply(lambda x: (x - x.mean())/(x.std()))\n",
    "    \n",
    "    processed_emr_dfs.append(df)\n",
    "\n",
    "emr_df = pd.concat(processed_emr_dfs, axis=1)\n",
    "emr_df.head(5)"
   ]
  },
  {
   "cell_type": "code",
   "execution_count": null,
   "metadata": {},
   "outputs": [],
   "source": [
    "# define columns\n",
    "EMR_FEATURE_COLS = emr_df.columns.tolist()\n",
    "PE_TYPE_COL = 'pe_type'\n",
    "SPLIT_COL = 'split'\n",
    "VISION_PRED_COL = 'pred'\n",
    "EMR_PRED_COL = 'emr_pred'\n",
    "FUSION_PRED_COL = 'late_fusion_pred'\n",
    "LABEL_COL = 'label'"
   ]
  },
  {
   "cell_type": "code",
   "execution_count": null,
   "metadata": {},
   "outputs": [],
   "source": [
    "# join vision information with emr dataframe\n",
    "vision_df = vision_df.set_index('idx')\n",
    "df = pd.concat([vision_df, emr_df], axis=1)"
   ]
  },
  {
   "cell_type": "code",
   "execution_count": null,
   "metadata": {},
   "outputs": [],
   "source": [
    "# using train and val split for cross validation\n",
    "# Create data splits\n",
    "df_dev = df[(df.split == 'train') | (df.split == 'val')]  # for gridsearch CV\n",
    "df_train = df[df.split == 'train']\n",
    "df_val = df[df.split == 'val']\n",
    "df_test = df[df.split == 'test']"
   ]
  },
  {
   "cell_type": "markdown",
   "metadata": {},
   "source": [
    "## Train EMR Model"
   ]
  },
  {
   "cell_type": "code",
   "execution_count": null,
   "metadata": {},
   "outputs": [],
   "source": [
    "from sklearn.linear_model import LogisticRegression\n",
    "from sklearn.model_selection import GridSearchCV\n",
    "\n",
    "# Uncomment and run grid search if time permits\n",
    "\"\"\"\n",
    "# define model\n",
    "clf = LogisticRegression(\n",
    "    penalty='elasticnet', solver='saga', random_state=0\n",
    ")\n",
    "\n",
    "# define grid search\n",
    "param_grid = {\n",
    "    \"C\": [0.01, 0.1, 1.0, 100], \n",
    "    \"class_weight\": ['balanced'],\n",
    "    \"max_iter\": [1000],\n",
    "    \"l1_ratio\": [0.01, 0.25, 0.5, 0.75, 0.99]\n",
    "}\n",
    "gsc = GridSearchCV(\n",
    "    estimator=clf,\n",
    "    param_grid=param_grid,\n",
    "    scoring='roc_auc',\n",
    "    n_jobs=-1,\n",
    "    verbose=10\n",
    ")\n",
    "\n",
    "# run grid search\n",
    "gsc.fit(df_dev[EMR_FEATURE_COLS], df_dev[LABEL_COL])\n",
    "print(f\"Best parameters: {gsc.best_params_}\")\n",
    "clf = gsc.best_estimator_\n",
    "\"\"\"\n",
    "\n",
    "clf = LogisticRegression(\n",
    "    penalty='elasticnet', \n",
    "    solver='saga', \n",
    "    random_state=0,\n",
    "    C= 0.1, \n",
    "    class_weight='balanced', \n",
    "    l1_ratio= 0.99, \n",
    "    max_iter= 1000\n",
    ")\n",
    "clf.fit(df_train[EMR_FEATURE_COLS], df_train[LABEL_COL])"
   ]
  },
  {
   "cell_type": "markdown",
   "metadata": {},
   "source": [
    "## Test EMR Model"
   ]
  },
  {
   "cell_type": "code",
   "execution_count": null,
   "metadata": {},
   "outputs": [],
   "source": [
    "# test with best model\n",
    "emr_prob = clf.predict_proba(df_test[EMR_FEATURE_COLS])\n",
    "\n",
    "# take probability of positive class \n",
    "emr_prob = [p[1] for p in emr_prob]\n",
    "\n",
    "df_test = df_test.assign(emr_pred = emr_prob)"
   ]
  },
  {
   "cell_type": "markdown",
   "metadata": {},
   "source": [
    "## Late Fusion (Mean Aggregation)\n",
    "\n",
    "<img src=\"./figs/late_fusion_mean_agg.png\" width=\"200\">\n",
    "\n",
    "Now that we are have prediction probabilities from both the EMR and Vision model, we will apply a simple late fusion strategy with mean aggregation. "
   ]
  },
  {
   "cell_type": "code",
   "execution_count": null,
   "metadata": {},
   "outputs": [],
   "source": [
    "# Late fusion by taking the average prediction probability from vision model and emr model\n",
    "late_fusion_pred = np.mean(\n",
    "    [df_test[EMR_PRED_COL], df_test[VISION_PRED_COL]], \n",
    "    axis=0\n",
    ")\n",
    "df_test = df_test.assign(late_fusion_pred = late_fusion_pred)"
   ]
  },
  {
   "cell_type": "markdown",
   "metadata": {},
   "source": [
    "## Evaluate Performance"
   ]
  },
  {
   "cell_type": "code",
   "execution_count": null,
   "metadata": {},
   "outputs": [],
   "source": [
    "from sklearn import metrics\n",
    "import matplotlib.pyplot as plt\n",
    "\n",
    "plt.style.use('ggplot')\n",
    "plt.figure(figsize=(7, 7))\n",
    "lw = 2\n",
    "\n",
    "def plot_auc(df, label):\n",
    "    # PENet performance\n",
    "    fpr_v, tpr_v, _ = metrics.roc_curve(\n",
    "        df[LABEL_COL], \n",
    "        df[VISION_PRED_COL])\n",
    "    roc_auc_v = metrics.auc(fpr_v, tpr_v)\n",
    "    plt.plot(\n",
    "        fpr_v, \n",
    "        tpr_v, \n",
    "        color='darkorange',\n",
    "        lw=lw, \n",
    "        label='PENet ROC curve (area = %0.2f)' % roc_auc_v)\n",
    "\n",
    "    # EMR model performance\n",
    "    fpr_emr, tpr_emr, _ = metrics.roc_curve(\n",
    "        df[LABEL_COL], \n",
    "        df[EMR_PRED_COL])\n",
    "    roc_auc_emr = metrics.auc(fpr_emr, tpr_emr)\n",
    "    plt.plot(\n",
    "        fpr_emr, \n",
    "        tpr_emr,\n",
    "        lw=lw, \n",
    "        label='EMR Model ROC curve (area = %0.2f)' % roc_auc_emr)\n",
    "\n",
    "    # Fusion model performance\n",
    "    fpr_fusion, tpr_fusion, _ = metrics.roc_curve(\n",
    "        df[LABEL_COL], \n",
    "        df[FUSION_PRED_COL])\n",
    "    roc_auc_fusion = metrics.auc(fpr_fusion, tpr_fusion)\n",
    "    plt.plot(\n",
    "        fpr_fusion, \n",
    "        tpr_fusion,\n",
    "        lw=lw, \n",
    "        label='Fusion Model ROC curve (area = %0.2f)' % roc_auc_fusion)\n",
    "\n",
    "    plt.plot([0, 1], [0, 1], color='navy', lw=lw, linestyle='--')\n",
    "    plt.xlim([0.0, 0.95])\n",
    "    plt.ylim([0.0, 1.05])\n",
    "    plt.axes().set_aspect('equal', 'datalim')\n",
    "\n",
    "    plt.xlabel('False Positive Rate')\n",
    "    plt.ylabel('True Positive Rate')\n",
    "    plt.title(f'Receiver operating characteristic ({label})')\n",
    "    plt.legend(loc=\"lower right\")\n",
    "\n",
    "    plt.show()"
   ]
  },
  {
   "cell_type": "code",
   "execution_count": null,
   "metadata": {},
   "outputs": [],
   "source": [
    "# Performance for all cases\n",
    "plot_auc(df_test, 'All Cases')"
   ]
  },
  {
   "cell_type": "code",
   "execution_count": null,
   "metadata": {},
   "outputs": [],
   "source": [
    "# Performance for non-subsegmental cases\n",
    "df_test_no_subseg = df_test[\n",
    "    df_test[PE_TYPE_COL] != 'subsegmental']\n",
    "plot_auc(df_test_no_subseg, 'No Subsegmental')"
   ]
  },
  {
   "cell_type": "code",
   "execution_count": null,
   "metadata": {},
   "outputs": [],
   "source": [
    "# Visualize histogram of Predicted Probs\n",
    "%matplotlib inline\n",
    "import matplotlib\n",
    "import matplotlib.pyplot as plt\n",
    "from matplotlib.pyplot import figure\n",
    "\n",
    "# style\n",
    "plt.clf()\n",
    "plt.style.use('ggplot')\n",
    "matplotlib.rc('xtick', labelsize=10) \n",
    "matplotlib.rc('ytick', labelsize=10) \n",
    "f, (ax1, ax2, ax3) = plt.subplots(1, 3, sharey=True, figsize=(21,6), dpi=300)\n",
    "bins = np.linspace(0, 1, 30)\n",
    "\n",
    "# seperate cases into positive and negative\n",
    "positive_cases = df_test_no_subseg[\n",
    "    df_test_no_subseg[LABEL_COL] == 1]\n",
    "negative_cases = df_test_no_subseg[\n",
    "    df_test_no_subseg[LABEL_COL] == 0]\n",
    "\n",
    "# PENet\n",
    "ax1.hist(\n",
    "    [positive_cases[VISION_PRED_COL], negative_cases[VISION_PRED_COL]], \n",
    "    bins, \n",
    "    label=['positive','negative'], \n",
    "    width=0.01)\n",
    "\n",
    "# EMR\n",
    "ax2.hist(\n",
    "    [positive_cases[EMR_PRED_COL], negative_cases[EMR_PRED_COL]], \n",
    "    bins, \n",
    "    label=['positive', 'negative'], \n",
    "    width=0.01)\n",
    "\n",
    "# Fusion\n",
    "ax3.hist(\n",
    "    [positive_cases[FUSION_PRED_COL], negative_cases[FUSION_PRED_COL]], \n",
    "    bins, \n",
    "    label=['positive','negative'], \n",
    "    width=0.01)\n",
    "\n",
    "f.tight_layout(pad=0.5)\n",
    "plt.legend(loc='upper right')\n",
    "ax2.set_xlabel(\"Predicted Probabilities\", fontsize = 25)\n",
    "ax1.set_ylabel(\"Count\", fontsize = 25)\n",
    "ax1.set_title('Vision Only', fontsize = 25)\n",
    "ax2.set_title('EMR Only', fontsize = 25)\n",
    "ax3.set_title('Fusion', fontsize = 25)\n",
    "plt.show()"
   ]
  },
  {
   "cell_type": "markdown",
   "metadata": {},
   "source": [
    "## Bonus: Other Fusion Strategies\n",
    "\n",
    "![OtherFusionStrategies](./figs/other_fusion_strategies.png)"
   ]
  },
  {
   "cell_type": "code",
   "execution_count": null,
   "metadata": {},
   "outputs": [],
   "source": [
    "# Try out other fusion strategies here"
   ]
  }
 ],
 "metadata": {
  "kernelspec": {
   "display_name": "Python 3.7.6 64-bit",
   "language": "python",
   "name": "python37664bitec9bac52ca3c411ebc0b7adf9e9ef198"
  },
  "language_info": {
   "codemirror_mode": {
    "name": "ipython",
    "version": 3
   },
   "file_extension": ".py",
   "mimetype": "text/x-python",
   "name": "python",
   "nbconvert_exporter": "python",
   "pygments_lexer": "ipython3",
   "version": "3.7.6"
  }
 },
 "nbformat": 4,
 "nbformat_minor": 2
}
